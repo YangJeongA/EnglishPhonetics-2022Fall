{
  "nbformat": 4,
  "nbformat_minor": 0,
  "metadata": {
    "colab": {
      "provenance": [],
      "include_colab_link": true
    },
    "kernelspec": {
      "name": "python3",
      "display_name": "Python 3"
    },
    "language_info": {
      "name": "python"
    }
  },
  "cells": [
    {
      "cell_type": "markdown",
      "metadata": {
        "id": "view-in-github",
        "colab_type": "text"
      },
      "source": [
        "<a href=\"https://colab.research.google.com/github/YangJeongA/EnglishPhonetics-2022Fall/blob/main/gradio_practice.ipynb\" target=\"_parent\"><img src=\"https://colab.research.google.com/assets/colab-badge.svg\" alt=\"Open In Colab\"/></a>"
      ]
    },
    {
      "cell_type": "markdown",
      "source": [
        "#gradio\n",
        "\n",
        ": \"입출력\"에 대한 것을 web으로 demo를 만들어 주는 것\n",
        "\n",
        "-> 입출력이 있다는 것은 함수가 있다는 말\n",
        "\n",
        "-> 함수를 먼저 정의해두어야 함\n",
        "\n",
        "1) 함수 정의\n",
        "\n",
        "2) gradio에 함수 심어주기\n",
        "\n",
        "3) 입출력 specify"
      ],
      "metadata": {
        "id": "OewrQQV-Ttxo"
      }
    },
    {
      "cell_type": "markdown",
      "source": [
        "#함수정의"
      ],
      "metadata": {
        "id": "udoszwzOU-EG"
      }
    },
    {
      "cell_type": "code",
      "execution_count": null,
      "metadata": {
        "id": "u8N5dCuUSO0W"
      },
      "outputs": [],
      "source": [
        "def sum(a, b):\n",
        "  c = a + b\n",
        "  return str(c)"
      ]
    },
    {
      "cell_type": "code",
      "source": [
        "def sum(a, b):\n",
        "  return str(a + b)"
      ],
      "metadata": {
        "id": "4VzvnuitU0T5"
      },
      "execution_count": null,
      "outputs": []
    },
    {
      "cell_type": "code",
      "source": [
        "sum(2, 3)"
      ],
      "metadata": {
        "colab": {
          "base_uri": "https://localhost:8080/"
        },
        "id": "R2H9It6kU4kT",
        "outputId": "056ec71d-2789-4b46-fb63-76f39af73a8f"
      },
      "execution_count": null,
      "outputs": [
        {
          "output_type": "execute_result",
          "data": {
            "text/plain": [
              "5"
            ]
          },
          "metadata": {},
          "execution_count": 4
        }
      ]
    },
    {
      "cell_type": "markdown",
      "source": [
        "#gradio에 함수 심어주기\n",
        "\n",
        ": 함수를 web demo로 예쁘게 만듦으로써 쓰는 사람이 편하게 해주는 것\n",
        "\n",
        "* gradio docs"
      ],
      "metadata": {
        "id": "1E0Nrt6kVE34"
      }
    },
    {
      "cell_type": "code",
      "source": [
        "!pip install gradio\n",
        "\n",
        "# gradio install부터 해줘야 함"
      ],
      "metadata": {
        "id": "Zzb4vw_3VORv"
      },
      "execution_count": null,
      "outputs": []
    },
    {
      "cell_type": "code",
      "source": [
        "import gradio as gr\n",
        "\n",
        "# install한 다음에는 import 해주기"
      ],
      "metadata": {
        "id": "KbNb0gJdVZxJ"
      },
      "execution_count": null,
      "outputs": []
    },
    {
      "cell_type": "code",
      "source": [
        "# gradio 쓰는 방법\n",
        "\n",
        "iface = gr.Interface(함수명, inputs = [], outputs = [])          #입력, 출력 각각의 개수와 타입을 함수와 맞춰주는 게 중요!\n",
        "iface.launch()                                                   #launch까지 해줘야 실제 web demo가 만들어짐"
      ],
      "metadata": {
        "id": "s8yy7t48VvkH"
      },
      "execution_count": null,
      "outputs": []
    },
    {
      "cell_type": "code",
      "source": [
        "iface = gr.Interface(sum, inputs = [\"number\", \"number\"], outputs = [\"text\"])       # sum함수의 입력값(number) 2개, 출력값(text) 1개\n",
        "iface.launch()"
      ],
      "metadata": {
        "id": "PsFfsvujVlqF"
      },
      "execution_count": null,
      "outputs": []
    },
    {
      "cell_type": "code",
      "source": [
        "iface = gr.Interface(sum, [gr.inputs.Number(label='input1'), gr.inputs.Number(label='input2')], gr.outputs.Textbox(label='answer'))\n",
        "iface.launch()         \n",
        "\n",
        "\n",
        "# 좀 더 예쁘게 만드는 방법 -> gr.inputs.Number() //  gr.outputs.Textbox() 사용"
      ],
      "metadata": {
        "colab": {
          "base_uri": "https://localhost:8080/",
          "height": 647
        },
        "id": "VjNoRKAMYImg",
        "outputId": "037eaddb-4e58-47c6-e708-b0b4bc91ae97"
      },
      "execution_count": null,
      "outputs": [
        {
          "output_type": "stream",
          "name": "stdout",
          "text": [
            "Colab notebook detected. To show errors in colab notebook, set `debug=True` in `launch()`\n",
            "Running on public URL: https://33899.gradio.app\n",
            "\n",
            "This share link expires in 72 hours. For free permanent hosting, check out Spaces (https://huggingface.co/spaces)\n"
          ]
        },
        {
          "output_type": "display_data",
          "data": {
            "text/plain": [
              "<IPython.lib.display.IFrame at 0x7f8a5b634fd0>"
            ],
            "text/html": [
              "\n",
              "        <iframe\n",
              "            width=\"900\"\n",
              "            height=\"500\"\n",
              "            src=\"https://33899.gradio.app\"\n",
              "            frameborder=\"0\"\n",
              "            allowfullscreen\n",
              "        ></iframe>\n",
              "        "
            ]
          },
          "metadata": {}
        },
        {
          "output_type": "execute_result",
          "data": {
            "text/plain": [
              "(<fastapi.applications.FastAPI at 0x7f8a61785f10>,\n",
              " 'http://127.0.0.1:7861/',\n",
              " 'https://33899.gradio.app')"
            ]
          },
          "metadata": {},
          "execution_count": 8
        }
      ]
    }
  ]
}