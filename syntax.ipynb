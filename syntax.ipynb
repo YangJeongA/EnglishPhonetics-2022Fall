{
  "nbformat": 4,
  "nbformat_minor": 0,
  "metadata": {
    "colab": {
      "provenance": [],
      "include_colab_link": true
    },
    "kernelspec": {
      "name": "python3",
      "display_name": "Python 3"
    },
    "language_info": {
      "name": "python"
    }
  },
  "cells": [
    {
      "cell_type": "markdown",
      "metadata": {
        "id": "view-in-github",
        "colab_type": "text"
      },
      "source": [
        "<a href=\"https://colab.research.google.com/github/YangJeongA/EnglishPhonetics-2022Fall/blob/main/221104_syntax.ipynb\" target=\"_parent\"><img src=\"https://colab.research.google.com/assets/colab-badge.svg\" alt=\"Open In Colab\"/></a>"
      ]
    },
    {
      "cell_type": "markdown",
      "source": [
        "Syntax\n",
        "- 조건 -> if\n",
        "- 반복 -> for"
      ],
      "metadata": {
        "id": "-U1S87SC_Ip-"
      }
    },
    {
      "cell_type": "markdown",
      "source": [
        "#for구문"
      ],
      "metadata": {
        "id": "3JAbDjjkyuqo"
      }
    },
    {
      "cell_type": "code",
      "execution_count": null,
      "metadata": {
        "colab": {
          "base_uri": "https://localhost:8080/"
        },
        "id": "yBk9CESKygyL",
        "outputId": "2b34c1db-e018-444f-85a8-3804f8c10550"
      },
      "outputs": [
        {
          "output_type": "stream",
          "name": "stdout",
          "text": [
            "1\n",
            "2\n",
            "3\n",
            "4\n"
          ]
        }
      ],
      "source": [
        "a = [1, 2, 3, 4]\n",
        "for i in a:        #for-loop\n",
        "  print(i)"
      ]
    },
    {
      "cell_type": "markdown",
      "source": [
        "#range함수"
      ],
      "metadata": {
        "id": "CZthCrAQ0M0y"
      }
    },
    {
      "cell_type": "code",
      "source": [
        "a = [1, 2, 3, 4]\n",
        "for i in range(len(a)):        #range함수 -> range(4) -> 0~3의 list가 만들어진다고 생각하면 됨\n",
        "  print(a[i])"
      ],
      "metadata": {
        "colab": {
          "base_uri": "https://localhost:8080/"
        },
        "id": "NX1OjOu2zSUw",
        "outputId": "6770e127-5cf0-4ae3-bebf-036a3ea0a4c2"
      },
      "execution_count": null,
      "outputs": [
        {
          "output_type": "stream",
          "name": "stdout",
          "text": [
            "1\n",
            "2\n",
            "3\n",
            "4\n"
          ]
        }
      ]
    },
    {
      "cell_type": "code",
      "source": [
        "a = [1, 2, 3, 4]\n",
        "for i in range(4):   \n",
        "  print(a[i])"
      ],
      "metadata": {
        "colab": {
          "base_uri": "https://localhost:8080/"
        },
        "id": "tsS_pTBK2ayU",
        "outputId": "6715b2e6-618f-41ae-8b40-846c1e1b0a50"
      },
      "execution_count": null,
      "outputs": [
        {
          "output_type": "stream",
          "name": "stdout",
          "text": [
            "1\n",
            "2\n",
            "3\n",
            "4\n"
          ]
        }
      ]
    },
    {
      "cell_type": "markdown",
      "source": [
        "range 함수\n",
        "\n",
        "- range(start, stop)\n",
        "\n",
        "- start와 stop사이의 연속적인 정수를 return 하는 함수\n",
        "\n",
        "- 마지막 숫자(stop)는 출력 x\n",
        "\n",
        "- range(시작값, 종료값, 증분) -> 증분의 default는 1\n",
        "- 시작값, 증분은 생략가능. (시작값의 default는 0)"
      ],
      "metadata": {
        "id": "Kb8jmzU71Y-q"
      }
    },
    {
      "cell_type": "code",
      "source": [
        "a = [1, 2, 3, 4]\n",
        "range(len(a))    "
      ],
      "metadata": {
        "colab": {
          "base_uri": "https://localhost:8080/"
        },
        "id": "D0OjqXwEzsPE",
        "outputId": "ee71f690-2c29-4a17-b2ae-60ef855f3525"
      },
      "execution_count": null,
      "outputs": [
        {
          "output_type": "execute_result",
          "data": {
            "text/plain": [
              "range(0, 4)"
            ]
          },
          "metadata": {},
          "execution_count": 4
        }
      ]
    },
    {
      "cell_type": "code",
      "source": [
        "a = [1, 2, 3, 4]\n",
        "list(range(len(a)))"
      ],
      "metadata": {
        "colab": {
          "base_uri": "https://localhost:8080/"
        },
        "id": "o898cNkI0XwH",
        "outputId": "b8fd1752-e7b5-4ba7-a5d9-3ce506f5718c"
      },
      "execution_count": null,
      "outputs": [
        {
          "output_type": "execute_result",
          "data": {
            "text/plain": [
              "[0, 1, 2, 3]"
            ]
          },
          "metadata": {},
          "execution_count": 6
        }
      ]
    },
    {
      "cell_type": "code",
      "source": [
        "range(9)"
      ],
      "metadata": {
        "colab": {
          "base_uri": "https://localhost:8080/"
        },
        "id": "SYTFMMlB1Cy0",
        "outputId": "838d9704-ef68-4bcf-c52f-b1cafa8356dd"
      },
      "execution_count": null,
      "outputs": [
        {
          "output_type": "execute_result",
          "data": {
            "text/plain": [
              "range(0, 9)"
            ]
          },
          "metadata": {},
          "execution_count": 14
        }
      ]
    },
    {
      "cell_type": "code",
      "source": [
        "list(range(9))"
      ],
      "metadata": {
        "colab": {
          "base_uri": "https://localhost:8080/"
        },
        "id": "hlNcyxdP15Jm",
        "outputId": "1aa44a34-7a6b-43a0-97db-23188de5d404"
      },
      "execution_count": null,
      "outputs": [
        {
          "output_type": "execute_result",
          "data": {
            "text/plain": [
              "[0, 1, 2, 3, 4, 5, 6, 7, 8]"
            ]
          },
          "metadata": {},
          "execution_count": 17
        }
      ]
    },
    {
      "cell_type": "code",
      "source": [
        "range(2, 5)"
      ],
      "metadata": {
        "colab": {
          "base_uri": "https://localhost:8080/"
        },
        "id": "wn9lSUzi1_z2",
        "outputId": "5ce0df95-dee1-4eb1-990b-40bda6862b84"
      },
      "execution_count": null,
      "outputs": [
        {
          "output_type": "execute_result",
          "data": {
            "text/plain": [
              "range(2, 5)"
            ]
          },
          "metadata": {},
          "execution_count": 18
        }
      ]
    },
    {
      "cell_type": "code",
      "source": [
        "list(range(2, 5))"
      ],
      "metadata": {
        "colab": {
          "base_uri": "https://localhost:8080/"
        },
        "id": "2PILqmd10uro",
        "outputId": "efe33f1e-9187-46f3-f40e-dc3e9e53c065"
      },
      "execution_count": null,
      "outputs": [
        {
          "output_type": "execute_result",
          "data": {
            "text/plain": [
              "[2, 3, 4]"
            ]
          },
          "metadata": {},
          "execution_count": 13
        }
      ]
    },
    {
      "cell_type": "markdown",
      "source": [
        "range함수는 보통 for-loop에서 사용 (위의 코드와 같은 형식으로)\n",
        "\n",
        "-> range함수의 결과는 반복 가능하므로 for구문을 이용하여 출력가능!\n"
      ],
      "metadata": {
        "id": "4O_alPnyzba0"
      }
    },
    {
      "cell_type": "code",
      "source": [
        "a = ['red', 'green', 'blue']\n",
        "for i in a:\n",
        "  print(i)"
      ],
      "metadata": {
        "colab": {
          "base_uri": "https://localhost:8080/"
        },
        "id": "U6ij-9WM3d1U",
        "outputId": "5263f7ef-257a-4fb1-ca4b-89bb5c0db7b1"
      },
      "execution_count": null,
      "outputs": [
        {
          "output_type": "stream",
          "name": "stdout",
          "text": [
            "red\n",
            "green\n",
            "blue\n"
          ]
        }
      ]
    },
    {
      "cell_type": "code",
      "source": [
        "a = ['red', 'green', 'blue']\n",
        "for i in range(len(a)):\n",
        "  print(i)"
      ],
      "metadata": {
        "colab": {
          "base_uri": "https://localhost:8080/"
        },
        "id": "4cbsll8C3XS6",
        "outputId": "429956ab-c684-42d3-c5b5-652f35671e99"
      },
      "execution_count": null,
      "outputs": [
        {
          "output_type": "stream",
          "name": "stdout",
          "text": [
            "0\n",
            "1\n",
            "2\n"
          ]
        }
      ]
    },
    {
      "cell_type": "code",
      "source": [
        "a = ['red', 'green', 'blue']\n",
        "for i in range(len(a)):\n",
        "  print(a[i])"
      ],
      "metadata": {
        "colab": {
          "base_uri": "https://localhost:8080/"
        },
        "id": "CVniICF-26zu",
        "outputId": "302658de-60fe-4577-91a8-cf84d1956745"
      },
      "execution_count": null,
      "outputs": [
        {
          "output_type": "stream",
          "name": "stdout",
          "text": [
            "red\n",
            "green\n",
            "blue\n"
          ]
        }
      ]
    },
    {
      "cell_type": "markdown",
      "source": [
        "#if"
      ],
      "metadata": {
        "id": "7AcbO7zb3ltv"
      }
    },
    {
      "cell_type": "code",
      "source": [
        "a = 0\n",
        "if a == 0:\n",
        "  print(a)"
      ],
      "metadata": {
        "colab": {
          "base_uri": "https://localhost:8080/"
        },
        "id": "2etw9r693moN",
        "outputId": "de482fec-02b6-4089-aa34-ad0b4abb425f"
      },
      "execution_count": null,
      "outputs": [
        {
          "output_type": "stream",
          "name": "stdout",
          "text": [
            "0\n"
          ]
        }
      ]
    },
    {
      "cell_type": "code",
      "source": [
        "a = 0\n",
        "if a != 0:        #a가 0이 아니라면\n",
        "  print(a)"
      ],
      "metadata": {
        "id": "aDupWHk837pN"
      },
      "execution_count": null,
      "outputs": []
    },
    {
      "cell_type": "code",
      "source": [
        "a = 0\n",
        "if a = 0:\n",
        "  print(a)\n",
        "else:\n",
        "  print(a+1)"
      ],
      "metadata": {
        "id": "HQcaNYrxAgWu"
      },
      "execution_count": null,
      "outputs": []
    },
    {
      "cell_type": "code",
      "source": [
        "a = 0\n",
        "if a != 0:\n",
        "  print(a)\n",
        "else:\n",
        "  print(a+1)"
      ],
      "metadata": {
        "colab": {
          "base_uri": "https://localhost:8080/"
        },
        "id": "pZF5v0Sp4BeK",
        "outputId": "6d838d1b-c7a8-4af5-f0dc-673779ac79c3"
      },
      "execution_count": null,
      "outputs": [
        {
          "output_type": "stream",
          "name": "stdout",
          "text": [
            "1\n"
          ]
        }
      ]
    },
    {
      "cell_type": "markdown",
      "source": [
        "#for를 중첩해서 사용"
      ],
      "metadata": {
        "id": "bavlwnk74SXo"
      }
    },
    {
      "cell_type": "code",
      "source": [
        "for i in range(1,3):                   #list(range(1,3)) -> [1, 2]\n",
        "  for j in range(3,5):                 #list(range(3,5)) -> [3, 4]\n",
        "    print(i*j)"
      ],
      "metadata": {
        "colab": {
          "base_uri": "https://localhost:8080/"
        },
        "id": "D_LVMVP04QDx",
        "outputId": "324d4108-1b0e-422b-b33c-c48a559bf4f0"
      },
      "execution_count": null,
      "outputs": [
        {
          "output_type": "stream",
          "name": "stdout",
          "text": [
            "3\n",
            "4\n",
            "6\n",
            "8\n"
          ]
        }
      ]
    },
    {
      "cell_type": "code",
      "source": [
        "for i in range(1, 3):\n",
        "  for j in range(3, 5):\n",
        "    if j >= 4:\n",
        "      print(i*j)"
      ],
      "metadata": {
        "colab": {
          "base_uri": "https://localhost:8080/"
        },
        "id": "XxLGB1564pc2",
        "outputId": "99435a10-90c9-4df3-bd7b-61722d6388ed"
      },
      "execution_count": null,
      "outputs": [
        {
          "output_type": "stream",
          "name": "stdout",
          "text": [
            "4\n",
            "8\n"
          ]
        }
      ]
    },
    {
      "cell_type": "markdown",
      "source": [
        "#list comprehension\n",
        "\n",
        "for문이 list 안으로 들어감\n",
        "\n",
        "-> 조건(for구문 내의 if)을 만족하는 값이 list로 출력됨"
      ],
      "metadata": {
        "id": "9DxxYbYt4z1J"
      }
    },
    {
      "cell_type": "code",
      "source": [
        "a = [1, 2, 3, 4]\n",
        "b = [i for i in a if i>= 2]\n",
        "b"
      ],
      "metadata": {
        "colab": {
          "base_uri": "https://localhost:8080/"
        },
        "id": "gCbod3LC5R0Y",
        "outputId": "8760138f-a927-4aee-97cf-6fb4eb4ec074"
      },
      "execution_count": null,
      "outputs": [
        {
          "output_type": "execute_result",
          "data": {
            "text/plain": [
              "[2, 3, 4]"
            ]
          },
          "metadata": {},
          "execution_count": 33
        }
      ]
    },
    {
      "cell_type": "code",
      "source": [
        "a = ['red', 'green', 'blue', 'purple']\n",
        "b = [i for i in a if len(i) >= 4]\n",
        "b"
      ],
      "metadata": {
        "colab": {
          "base_uri": "https://localhost:8080/"
        },
        "id": "OR2d3xOM5dOq",
        "outputId": "5a32d427-4ed4-4da1-9f6c-57737311df4f"
      },
      "execution_count": null,
      "outputs": [
        {
          "output_type": "execute_result",
          "data": {
            "text/plain": [
              "['green', 'blue', 'purple']"
            ]
          },
          "metadata": {},
          "execution_count": 34
        }
      ]
    },
    {
      "cell_type": "markdown",
      "source": [
        "#dict comprehension\n",
        "\n",
        "for문이 dict 안으로 들어감\n",
        "\n",
        "-> 조건을 만족하는 값이 dict로 출력됨"
      ],
      "metadata": {
        "id": "gLpGJL4i5HoD"
      }
    },
    {
      "cell_type": "code",
      "source": [
        "a = ['red', 'green', 'blue', 'purple']\n",
        "b  =[1, 2, 3, 4]\n",
        "c = {a[i]:b[i] for i in range(4)}           \n",
        "c\n",
        "\n",
        "\n",
        "#range(4) -> 0,1,2,3\n",
        "#{a[i]:b[i]} -> {a[0]:b[0], a[1]:b[1], a[2]:b[2], a[3]:b[3]}"
      ],
      "metadata": {
        "colab": {
          "base_uri": "https://localhost:8080/"
        },
        "id": "cxZ4c-NC6B0f",
        "outputId": "9fde70ff-55ba-484c-d275-167ef7a3d402"
      },
      "execution_count": null,
      "outputs": [
        {
          "output_type": "execute_result",
          "data": {
            "text/plain": [
              "{'blue': 3, 'green': 2, 'purple': 4, 'red': 1}"
            ]
          },
          "metadata": {},
          "execution_count": 37
        }
      ]
    },
    {
      "cell_type": "markdown",
      "source": [
        "dict는 출력값의 순서 중요하지 않음!"
      ],
      "metadata": {
        "id": "mqCjgCGV6goj"
      }
    }
  ]
}
