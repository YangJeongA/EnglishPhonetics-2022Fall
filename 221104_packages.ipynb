{
  "nbformat": 4,
  "nbformat_minor": 0,
  "metadata": {
    "colab": {
      "provenance": [],
      "include_colab_link": true
    },
    "kernelspec": {
      "name": "python3",
      "display_name": "Python 3"
    },
    "language_info": {
      "name": "python"
    }
  },
  "cells": [
    {
      "cell_type": "markdown",
      "metadata": {
        "id": "view-in-github",
        "colab_type": "text"
      },
      "source": [
        "<a href=\"https://colab.research.google.com/github/YangJeongA/EnglishPhonetics-2022Fall/blob/main/221104_packages.ipynb\" target=\"_parent\"><img src=\"https://colab.research.google.com/assets/colab-badge.svg\" alt=\"Open In Colab\"/></a>"
      ]
    },
    {
      "cell_type": "code",
      "execution_count": null,
      "metadata": {
        "id": "2Bo4mr5X97Me"
      },
      "outputs": [],
      "source": [
        "import numpy \n",
        "import pandas   #가장 많이 사용되는 package가 pandas\n",
        "import matplotlib\n",
        "import seaborn\n",
        "import sklearn\n",
        "import requests\n",
        "import urllib3\n",
        "import nltk     #자연어처리\n",
        "import PIL\n",
        "import pytest\n",
        "import librosa\n",
        "\n",
        "#import해서 사용해주면 되는 package들"
      ]
    },
    {
      "cell_type": "markdown",
      "source": [
        "import를 통해 package를 불러올 수 있음. \n",
        "\n",
        "package: install / import / built-in\n",
        "\n",
        "-> 유명하지 않은 것들은 install 후에 import해야 하고, 유명한 것들은 install 되어 있어서 import만 하면 됨 (ram에 저장은 돼있으므로 불러와주면 됨). built-in은 import 할 필요도 없이 바로 사용가능한 것 (대표적인 것이 print)."
      ],
      "metadata": {
        "id": "_aEtAvj5986h"
      }
    }
  ]
}