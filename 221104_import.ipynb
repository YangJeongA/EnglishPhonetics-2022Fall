{
  "nbformat": 4,
  "nbformat_minor": 0,
  "metadata": {
    "colab": {
      "provenance": [],
      "include_colab_link": true
    },
    "kernelspec": {
      "name": "python3",
      "display_name": "Python 3"
    },
    "language_info": {
      "name": "python"
    }
  },
  "cells": [
    {
      "cell_type": "markdown",
      "metadata": {
        "id": "view-in-github",
        "colab_type": "text"
      },
      "source": [
        "<a href=\"https://colab.research.google.com/github/YangJeongA/EnglishPhonetics-2022Fall/blob/main/221104_import.ipynb\" target=\"_parent\"><img src=\"https://colab.research.google.com/assets/colab-badge.svg\" alt=\"Open In Colab\"/></a>"
      ]
    },
    {
      "cell_type": "markdown",
      "source": [
        "#package를 import하기"
      ],
      "metadata": {
        "id": "DtAXFA79-UNS"
      }
    },
    {
      "cell_type": "markdown",
      "source": [
        "#numpy"
      ],
      "metadata": {
        "id": "lLSFEN-j_sSl"
      }
    },
    {
      "cell_type": "code",
      "execution_count": null,
      "metadata": {
        "id": "oxcVm3Fsx5ly"
      },
      "outputs": [],
      "source": [
        "import numpy\n",
        "\n",
        "\n",
        "#특정 package안에는 여러 함수가 내장되어 있기 때문에 특정 디렉토리 안에 있는 함수 중 어떤 것을 쓸 것인지 명령해줘야 함\n",
        "\n",
        "#numpy ->  random number generate나 행렬 같은 숫자를 만들 때, 숫자로 간단한 통계 처리를 할 때 등 수치를 활용할때는 numpy가 필수적\n",
        "#numpy는 AI와 data science에서 가장 중요한 package\n",
        "#행렬이 들어있는 것이 numpy package "
      ]
    },
    {
      "cell_type": "code",
      "source": [
        "numpy.random.randn(5)\n",
        "\n",
        "\n",
        "#numpy안의 random이라는 directory에 있는 randn함수를 사용하겠다는 뜻\n",
        "#위의 코드 실행하면 5개의 random number 만들어짐 "
      ],
      "metadata": {
        "colab": {
          "base_uri": "https://localhost:8080/"
        },
        "id": "ILGBvUE-yBPQ",
        "outputId": "1e42b8ae-78f8-4bc5-a41f-8db7bd0724d1"
      },
      "execution_count": null,
      "outputs": [
        {
          "output_type": "execute_result",
          "data": {
            "text/plain": [
              "array([ 0.41782769,  0.12940815, -0.78756005, -0.55163352, -0.7969452 ])"
            ]
          },
          "metadata": {},
          "execution_count": 3
        }
      ]
    },
    {
      "cell_type": "markdown",
      "source": [
        "#import as로 축약해서 사용"
      ],
      "metadata": {
        "id": "O1tcplcyBw7B"
      }
    },
    {
      "cell_type": "code",
      "source": [
        "import numpy as np               #numpy를 np로 줄여서 쓰겠다는 뜻 (np)\n",
        "n = np.random.randn(100)"
      ],
      "metadata": {
        "id": "fr7i7Bysyaby"
      },
      "execution_count": null,
      "outputs": []
    },
    {
      "cell_type": "markdown",
      "source": [
        "import ~ as ~ 를 활용해서 축약하여 사용 가능"
      ],
      "metadata": {
        "id": "geQeXcSQBbir"
      }
    },
    {
      "cell_type": "markdown",
      "source": [
        "#matplotlib"
      ],
      "metadata": {
        "id": "6rZGzTR1_xrc"
      }
    },
    {
      "cell_type": "code",
      "source": [
        "import matplotlib\n",
        "\n",
        "\n",
        "#plot, visualize로 유명한 package"
      ],
      "metadata": {
        "id": "Mlz6itf0ypWt"
      },
      "execution_count": null,
      "outputs": []
    },
    {
      "cell_type": "code",
      "source": [
        "matplotlib.pyplot.hist(n)\n",
        "\n",
        "\n",
        "#hist는 히스토그램을 그려주는 function\n",
        "#변수 n가 numpy에 의한 random number를 값으로 가지므로 실행할 때마다 히스토그램의 모양이 달라짐"
      ],
      "metadata": {
        "colab": {
          "base_uri": "https://localhost:8080/",
          "height": 356
        },
        "id": "hYIPbpnOytDJ",
        "outputId": "bcab5ea6-9d96-4d50-f135-772055008307"
      },
      "execution_count": null,
      "outputs": [
        {
          "output_type": "execute_result",
          "data": {
            "text/plain": [
              "(array([ 1.,  8., 15., 12., 13., 15., 16., 11.,  5.,  4.]),\n",
              " array([-2.29104795, -1.78242244, -1.27379692, -0.76517141, -0.2565459 ,\n",
              "         0.25207961,  0.76070512,  1.26933063,  1.77795614,  2.28658166,\n",
              "         2.79520717]),\n",
              " <a list of 10 Patch objects>)"
            ]
          },
          "metadata": {},
          "execution_count": 10
        },
        {
          "output_type": "display_data",
          "data": {
            "text/plain": [
              "<Figure size 432x288 with 1 Axes>"
            ],
            "image/png": "[encoded data removed]"
          },
          "metadata": {
            "needs_background": "light"
          }
        }
      ]
    },
    {
      "cell_type": "markdown",
      "source": [
        "히스토그램\n",
        "-> y축은 값의 개수 \n",
        "\n",
        "-> **각 bin에 몇 개가 들어있는지를 알려주는 것이 y축**\n",
        "\n",
        "-> 히스토그램의 원리는 알고 있어야 함 "
      ],
      "metadata": {
        "id": "pNrSMNXByyvQ"
      }
    },
    {
      "cell_type": "code",
      "source": [
        "import matplotlib.pyplot\n",
        "matplotlib.pyplot.hist(n)\n",
        "\n",
        "\n",
        "#이것처럼 하위 directory까지 import해주는 방법도 있음(선호되는 방법은 x)"
      ],
      "metadata": {
        "id": "okkPIk39zBJ-"
      },
      "execution_count": null,
      "outputs": []
    },
    {
      "cell_type": "code",
      "source": [
        "import matplotlib.pyplot as plt        \n",
        "plt.hist(n)\n",
        "\n",
        "#matplotlib.pyplot을 plt로 축약해서 사용 -> 이 방법을 가장 많이 사용함 (사람들이 많이 쓰는 걸 쓰는 게 좋음)"
      ],
      "metadata": {
        "id": "xBsJN-GMzlA8"
      },
      "execution_count": null,
      "outputs": []
    },
    {
      "cell_type": "markdown",
      "source": [
        "#from~ import~를 사용하면 import as처럼 축약해서 사용 가능"
      ],
      "metadata": {
        "id": "_-uBXd9Q0tb7"
      }
    },
    {
      "cell_type": "code",
      "source": [
        "from matplotlib import pyplot\n",
        "pyplot.hist(n)"
      ],
      "metadata": {
        "id": "oYLn2VYR04Wc",
        "colab": {
          "base_uri": "https://localhost:8080/",
          "height": 358
        },
        "outputId": "293d0c65-f684-4c80-ee1f-a6ee5f1fb222"
      },
      "execution_count": null,
      "outputs": [
        {
          "output_type": "execute_result",
          "data": {
            "text/plain": [
              "(array([ 1.,  9.,  9., 20., 21., 24.,  9.,  3.,  1.,  3.]),\n",
              " array([-2.47758618, -1.92944327, -1.38130037, -0.83315746, -0.28501456,\n",
              "         0.26312835,  0.81127126,  1.35941416,  1.90755707,  2.45569998,\n",
              "         3.00384288]),\n",
              " <a list of 10 Patch objects>)"
            ]
          },
          "metadata": {},
          "execution_count": 5
        },
        {
          "output_type": "display_data",
          "data": {
            "text/plain": [
              "<Figure size 432x288 with 1 Axes>"
            ],
            "image/png": "[encoded data removed]"
          },
          "metadata": {
            "needs_background": "light"
          }
        }
      ]
    }
  ]
}