{
  "nbformat": 4,
  "nbformat_minor": 0,
  "metadata": {
    "colab": {
      "provenance": [],
      "include_colab_link": true
    },
    "kernelspec": {
      "name": "python3",
      "display_name": "Python 3"
    },
    "language_info": {
      "name": "python"
    }
  },
  "cells": [
    {
      "cell_type": "markdown",
      "metadata": {
        "id": "view-in-github",
        "colab_type": "text"
      },
      "source": [
        "<a href=\"https://colab.research.google.com/github/YangJeongA/EnglishPhonetics-2022Fall/blob/main/variables.ipynb\" target=\"_parent\"><img src=\"https://colab.research.google.com/assets/colab-badge.svg\" alt=\"Open In Colab\"/></a>"
      ]
    },
    {
      "cell_type": "markdown",
      "source": [
        "Programming language의 word가 variables(변수).\n",
        "-> 의미를 가진 단어에 해당하는 부분이 variable\n",
        "\n",
        "variables에 meaning(content)를 assign.\n",
        "\n",
        "word를 조합하는 공식이 syntax\n",
        ". syntax에는 조건문(if)과 반복문(for)이 있음\n",
        "\n",
        "* 기본적으로 variable과 syntax가 programming language의 구성\n",
        "\n",
        "# variables(변수)에 할당 가능한 값들\n",
        "\n",
        "1) number -> int, float\n",
        "\n",
        "2) string\n",
        "\n",
        "3) list ≒ tuple\n",
        "\n",
        "-> list와 tuple은 거의 비슷. 그러나 list는 item을 바꿀 수 있지만, tuple은 item을 바꿀 수 없다는 점에서 차이가 있음.\n",
        "\n",
        "4) dict\n",
        "\n",
        "* 변수는 크게는 두가지 종류 (number, string)인데, 이것을 여러개 묶을 수 있도록 하는 것이 list, tuple, dict"
      ],
      "metadata": {
        "id": "xIEEg773JD9c"
      }
    },
    {
      "cell_type": "code",
      "source": [
        "a = 1\n",
        "\n",
        "# a가 변수에 해당하고 1이 meaning(content)에 해당\n",
        "# a라는 변수에 1이라는 값(내용)을 할당"
      ],
      "metadata": {
        "id": "IvcScXQnxj9I"
      },
      "execution_count": null,
      "outputs": []
    },
    {
      "cell_type": "code",
      "source": [
        "a = 1; print(type(a))\n",
        "\n",
        "a = 1.1; print(type(a))"
      ],
      "metadata": {
        "id": "fepZ40Mg2YhZ",
        "colab": {
          "base_uri": "https://localhost:8080/"
        },
        "outputId": "056324a7-8b8b-4b5a-aa85-76c59d1bd2c5"
      },
      "execution_count": null,
      "outputs": [
        {
          "output_type": "stream",
          "name": "stdout",
          "text": [
            "<class 'int'>\n",
            "<class 'float'>\n"
          ]
        }
      ]
    },
    {
      "cell_type": "code",
      "source": [
        "a = '123'; print(type(a)); print(a[1])\n",
        "\n",
        "a = 'hello'; print(type(a)); print(a[1])"
      ],
      "metadata": {
        "id": "JGB_5ZF42z47",
        "colab": {
          "base_uri": "https://localhost:8080/"
        },
        "outputId": "c41488ea-9b2f-4d83-a5ce-4fe4c91a1978"
      },
      "execution_count": null,
      "outputs": [
        {
          "output_type": "stream",
          "name": "stdout",
          "text": [
            "<class 'str'>\n",
            "2\n",
            "<class 'str'>\n",
            "e\n"
          ]
        }
      ]
    },
    {
      "cell_type": "code",
      "source": [
        "a = [1, 2, 'ab', 4]\n",
        "print(type(a))\n",
        "print(a[2][1])"
      ],
      "metadata": {
        "id": "4Z3Cq4ZW4MuR",
        "colab": {
          "base_uri": "https://localhost:8080/"
        },
        "outputId": "c4dbba96-7cd8-4a15-dc38-9aae8b5fef42"
      },
      "execution_count": null,
      "outputs": [
        {
          "output_type": "stream",
          "name": "stdout",
          "text": [
            "<class 'list'>\n",
            "b\n"
          ]
        }
      ]
    },
    {
      "cell_type": "code",
      "source": [
        "a = [1, 2, 3, 4]; print(type(a)); print(a[0])"
      ],
      "metadata": {
        "id": "Vv-4N2mq22rS",
        "colab": {
          "base_uri": "https://localhost:8080/"
        },
        "outputId": "aa3ec003-16ff-452e-eda6-abe3f12d6264"
      },
      "execution_count": null,
      "outputs": [
        {
          "output_type": "stream",
          "name": "stdout",
          "text": [
            "<class 'list'>\n",
            "1\n"
          ]
        }
      ]
    },
    {
      "cell_type": "code",
      "source": [
        "a = [1,'a', [3, '4']]\n",
        "print(type(a))\n",
        "print(a[0])\n",
        "print(a[1])\n",
        "print(a[2])\n",
        "print(a[2][1])\n",
        "\n",
        "# 변수 a에 들어있는 항목은 기본적으로 3개. 이때 세번째 항목이 list이고, 이 세번째 항목(list)을 이루고 있는 elements가 2개"
      ],
      "metadata": {
        "id": "YX94eROU4fI6",
        "colab": {
          "base_uri": "https://localhost:8080/"
        },
        "outputId": "e5a8fdd9-8152-4fef-de70-f935de398336"
      },
      "execution_count": null,
      "outputs": [
        {
          "output_type": "stream",
          "name": "stdout",
          "text": [
            "<class 'list'>\n",
            "1\n",
            "a\n",
            "[3, '4']\n",
            "4\n"
          ]
        }
      ]
    },
    {
      "cell_type": "code",
      "source": [
        "a =\t{\"a\": \"apple\", \"b\": \"orange\", \"c\": 2014}\n",
        "print(type(a))\n",
        "print(a[\"a\"])\n",
        "\n",
        "# dictionary "
      ],
      "metadata": {
        "id": "OxSOPvoc3FmO",
        "colab": {
          "base_uri": "https://localhost:8080/"
        },
        "outputId": "8aaf4dac-94fd-4fd5-8ba1-49c03e31364d"
      },
      "execution_count": null,
      "outputs": [
        {
          "output_type": "stream",
          "name": "stdout",
          "text": [
            "<class 'dict'>\n",
            "apple\n"
          ]
        }
      ]
    },
    {
      "cell_type": "markdown",
      "source": [
        "# number; int, float"
      ],
      "metadata": {
        "id": "_2MKx7KFO63-"
      }
    },
    {
      "cell_type": "markdown",
      "source": [
        "variables 중 number (int, float)"
      ],
      "metadata": {
        "id": "_hd3Uxn2PMGN"
      }
    },
    {
      "cell_type": "code",
      "execution_count": null,
      "metadata": {
        "id": "pgnUXRueCShH"
      },
      "outputs": [],
      "source": [
        "a = 1\n",
        "b = 2\n",
        "c = 5"
      ]
    },
    {
      "cell_type": "code",
      "source": [
        "d = a+b+c"
      ],
      "metadata": {
        "id": "boHOJyMOMi_X"
      },
      "execution_count": null,
      "outputs": []
    },
    {
      "cell_type": "code",
      "source": [
        "a = 1; print(type(a))"
      ],
      "metadata": {
        "colab": {
          "base_uri": "https://localhost:8080/"
        },
        "id": "7CgmsDmkNjnk",
        "outputId": "31476789-4356-468d-cff4-61b5e67ece6b"
      },
      "execution_count": null,
      "outputs": [
        {
          "output_type": "stream",
          "name": "stdout",
          "text": [
            "<class 'int'>\n"
          ]
        }
      ]
    },
    {
      "cell_type": "code",
      "source": [
        "a = 1; type(a)"
      ],
      "metadata": {
        "colab": {
          "base_uri": "https://localhost:8080/"
        },
        "id": "BcTcsK_1tJGQ",
        "outputId": "abebb6af-4a38-4cb6-81b4-7aeebe7a076f"
      },
      "execution_count": null,
      "outputs": [
        {
          "output_type": "execute_result",
          "data": {
            "text/plain": [
              "int"
            ]
          },
          "metadata": {},
          "execution_count": 3
        }
      ]
    },
    {
      "cell_type": "markdown",
      "source": [
        "variable a의 Type은 int(정수)"
      ],
      "metadata": {
        "id": "CD9YnrNyOCR9"
      }
    },
    {
      "cell_type": "code",
      "source": [
        "print(a)"
      ],
      "metadata": {
        "colab": {
          "base_uri": "https://localhost:8080/"
        },
        "id": "__zwL2q8Nn2I",
        "outputId": "a23667da-16a5-42e1-9557-e836596cdc8e"
      },
      "execution_count": null,
      "outputs": [
        {
          "output_type": "stream",
          "name": "stdout",
          "text": [
            "1\n"
          ]
        }
      ]
    },
    {
      "cell_type": "markdown",
      "source": [
        "print함수를 사용하면 논항의 변수가 가지는 content가 나오고,\n",
        "\n",
        "type함수를 사용하면 변수의 type이 나옴."
      ],
      "metadata": {
        "id": "oeAmV2W_OPER"
      }
    },
    {
      "cell_type": "markdown",
      "source": [
        "# string"
      ],
      "metadata": {
        "id": "mv6RzsmVO143"
      }
    },
    {
      "cell_type": "code",
      "source": [
        "a = '123'\n",
        "b = \"123\""
      ],
      "metadata": {
        "id": "KVXeZSkWPIvn"
      },
      "execution_count": null,
      "outputs": []
    },
    {
      "cell_type": "code",
      "source": [
        "a = '456'; print(type(a))"
      ],
      "metadata": {
        "colab": {
          "base_uri": "https://localhost:8080/"
        },
        "id": "K8dZTb_HPmKb",
        "outputId": "199edcaf-cee2-4290-ead4-2757f1ac3703"
      },
      "execution_count": null,
      "outputs": [
        {
          "output_type": "stream",
          "name": "stdout",
          "text": [
            "<class 'str'>\n"
          ]
        }
      ]
    },
    {
      "cell_type": "markdown",
      "source": [
        "앞뒤로 qoute 표시 해주면 string"
      ],
      "metadata": {
        "id": "rjD1eP6LPW5q"
      }
    },
    {
      "cell_type": "code",
      "source": [
        "a = 'hello'; print(type(a))"
      ],
      "metadata": {
        "colab": {
          "base_uri": "https://localhost:8080/"
        },
        "id": "CarGX7_OPvyA",
        "outputId": "7601f507-d20b-44ed-f2f9-7f2d2f1ee002"
      },
      "execution_count": null,
      "outputs": [
        {
          "output_type": "stream",
          "name": "stdout",
          "text": [
            "<class 'str'>\n"
          ]
        }
      ]
    },
    {
      "cell_type": "markdown",
      "source": [
        "#list\n",
        "\n"
      ],
      "metadata": {
        "id": "RJASnGYgP7Se"
      }
    },
    {
      "cell_type": "markdown",
      "source": [
        "list\n",
        "\n",
        "-> [ ]를 사용하여 여러 개를 담을 수 있음"
      ],
      "metadata": {
        "id": "XfOSXF56P8TL"
      }
    },
    {
      "cell_type": "code",
      "source": [
        "a = [1, 2, 3, 4]; print(type(a))"
      ],
      "metadata": {
        "colab": {
          "base_uri": "https://localhost:8080/"
        },
        "id": "S0JilCMaP4QH",
        "outputId": "ef670af8-e2c8-42e6-f36c-bf1166c4da69"
      },
      "execution_count": null,
      "outputs": [
        {
          "output_type": "stream",
          "name": "stdout",
          "text": [
            "<class 'list'>\n"
          ]
        }
      ]
    },
    {
      "cell_type": "code",
      "source": [
        "a = [1, 'a', [3, '4']]"
      ],
      "metadata": {
        "id": "3IDdo5BeQLLh"
      },
      "execution_count": null,
      "outputs": []
    },
    {
      "cell_type": "markdown",
      "source": [
        "list 안에는 number, string, list, tuple 등 모두 들어갈 수 있음."
      ],
      "metadata": {
        "id": "i8rwZoJXQPB5"
      }
    },
    {
      "cell_type": "markdown",
      "source": [
        "# indexing / slicing"
      ],
      "metadata": {
        "id": "lLjL-rUsQYUv"
      }
    },
    {
      "cell_type": "markdown",
      "source": [
        "### indexing"
      ],
      "metadata": {
        "id": "Nhs7JUexwPK-"
      }
    },
    {
      "cell_type": "code",
      "source": [
        "a = [1, 2, 3, 4]"
      ],
      "metadata": {
        "id": "ex8AbmFoQWZ-"
      },
      "execution_count": null,
      "outputs": []
    },
    {
      "cell_type": "code",
      "source": [
        "a[0]"
      ],
      "metadata": {
        "colab": {
          "base_uri": "https://localhost:8080/"
        },
        "id": "KE2NUePgQkH2",
        "outputId": "22fee8c8-608b-454e-8639-e2b4b79037fc"
      },
      "execution_count": null,
      "outputs": [
        {
          "output_type": "execute_result",
          "data": {
            "text/plain": [
              "1"
            ]
          },
          "metadata": {},
          "execution_count": 8
        }
      ]
    },
    {
      "cell_type": "markdown",
      "source": [
        "python은 0번째부터 시작됨!\n",
        "\n",
        "제일 마지막 줄 코드는 print를 해주지 않아도 값이 나옴"
      ],
      "metadata": {
        "id": "I66NHWavQrqD"
      }
    },
    {
      "cell_type": "code",
      "source": [
        "a = 'abc'\n",
        "a[0]"
      ],
      "metadata": {
        "colab": {
          "base_uri": "https://localhost:8080/",
          "height": 36
        },
        "id": "oNGzk-CP3vOC",
        "outputId": "f7a60e90-94d2-4fbc-bf14-d11ba8e4f86b"
      },
      "execution_count": null,
      "outputs": [
        {
          "output_type": "execute_result",
          "data": {
            "text/plain": [
              "'a'"
            ],
            "application/vnd.google.colaboratory.intrinsic+json": {
              "type": "string"
            }
          },
          "metadata": {},
          "execution_count": 9
        }
      ]
    },
    {
      "cell_type": "markdown",
      "source": [
        "### slicing"
      ],
      "metadata": {
        "id": "nqfac5F1wNsd"
      }
    },
    {
      "cell_type": "code",
      "source": [
        "a[1:2]"
      ],
      "metadata": {
        "colab": {
          "base_uri": "https://localhost:8080/",
          "height": 36
        },
        "id": "5_iPxla7Q89m",
        "outputId": "61189e47-1ae5-4874-97e7-150594846c71"
      },
      "execution_count": null,
      "outputs": [
        {
          "output_type": "execute_result",
          "data": {
            "text/plain": [
              "'b'"
            ],
            "application/vnd.google.colaboratory.intrinsic+json": {
              "type": "string"
            }
          },
          "metadata": {},
          "execution_count": 10
        }
      ]
    },
    {
      "cell_type": "markdown",
      "source": [
        "a[1:4]라고 하면, 1~3번째 값만 출력됨. 4번째(마지막)값은 출력x"
      ],
      "metadata": {
        "id": "R2FaNxmYRXWZ"
      }
    },
    {
      "cell_type": "code",
      "source": [
        "a[2:]"
      ],
      "metadata": {
        "colab": {
          "base_uri": "https://localhost:8080/",
          "height": 36
        },
        "id": "Azd3C59_RoFe",
        "outputId": "487e1053-7096-4639-b7ac-a8a0a71c1599"
      },
      "execution_count": null,
      "outputs": [
        {
          "output_type": "execute_result",
          "data": {
            "text/plain": [
              "'c'"
            ],
            "application/vnd.google.colaboratory.intrinsic+json": {
              "type": "string"
            }
          },
          "metadata": {},
          "execution_count": 11
        }
      ]
    },
    {
      "cell_type": "code",
      "source": [
        "a[:4]"
      ],
      "metadata": {
        "colab": {
          "base_uri": "https://localhost:8080/",
          "height": 36
        },
        "id": "q1m3BfMaSwmf",
        "outputId": "bf77c98f-a661-471c-f858-5aa9fb33ea72"
      },
      "execution_count": null,
      "outputs": [
        {
          "output_type": "execute_result",
          "data": {
            "text/plain": [
              "'abc'"
            ],
            "application/vnd.google.colaboratory.intrinsic+json": {
              "type": "string"
            }
          },
          "metadata": {},
          "execution_count": 12
        }
      ]
    },
    {
      "cell_type": "code",
      "source": [
        "a[2:-1]"
      ],
      "metadata": {
        "colab": {
          "base_uri": "https://localhost:8080/",
          "height": 36
        },
        "id": "Btj-hWyFRsE_",
        "outputId": "a1383d73-b62f-4061-ac8b-07452b84e679"
      },
      "execution_count": null,
      "outputs": [
        {
          "output_type": "execute_result",
          "data": {
            "text/plain": [
              "''"
            ],
            "application/vnd.google.colaboratory.intrinsic+json": {
              "type": "string"
            }
          },
          "metadata": {},
          "execution_count": 13
        }
      ]
    },
    {
      "cell_type": "code",
      "source": [
        "a[:]"
      ],
      "metadata": {
        "colab": {
          "base_uri": "https://localhost:8080/",
          "height": 36
        },
        "id": "h3Pz5kjwSm3H",
        "outputId": "405f48bf-c4a0-498e-907a-a1ec27b2d8d0"
      },
      "execution_count": null,
      "outputs": [
        {
          "output_type": "execute_result",
          "data": {
            "text/plain": [
              "'abc'"
            ],
            "application/vnd.google.colaboratory.intrinsic+json": {
              "type": "string"
            }
          },
          "metadata": {},
          "execution_count": 14
        }
      ]
    },
    {
      "cell_type": "code",
      "source": [
        "b = [1, 'a', [3, '4']]"
      ],
      "metadata": {
        "id": "v-xogFm0UqCN"
      },
      "execution_count": null,
      "outputs": []
    },
    {
      "cell_type": "code",
      "source": [
        "b[2][1]"
      ],
      "metadata": {
        "colab": {
          "base_uri": "https://localhost:8080/",
          "height": 36
        },
        "id": "lDXV5KgbUuJp",
        "outputId": "f92f432e-d5fc-456a-8fec-dc91d8ebf86e"
      },
      "execution_count": null,
      "outputs": [
        {
          "output_type": "execute_result",
          "data": {
            "text/plain": [
              "'4'"
            ],
            "application/vnd.google.colaboratory.intrinsic+json": {
              "type": "string"
            }
          },
          "metadata": {},
          "execution_count": 16
        }
      ]
    },
    {
      "cell_type": "markdown",
      "source": [
        "string에도 indexing 동일하게 적용 가능\n",
        "\n",
        "-> sequence data type 모두에 indexing, slicing 적용 가능"
      ],
      "metadata": {
        "id": "Fx2ZAxPaVJik"
      }
    },
    {
      "cell_type": "code",
      "source": [
        "c = 'abcedf123'"
      ],
      "metadata": {
        "id": "BvxExNNuU-vU"
      },
      "execution_count": null,
      "outputs": []
    },
    {
      "cell_type": "code",
      "source": [
        "a[:3]"
      ],
      "metadata": {
        "colab": {
          "base_uri": "https://localhost:8080/",
          "height": 36
        },
        "id": "0ZJLTpb6VMX1",
        "outputId": "e15cbd87-dcb5-42e0-c79c-d851184e7701"
      },
      "execution_count": null,
      "outputs": [
        {
          "output_type": "execute_result",
          "data": {
            "text/plain": [
              "'abc'"
            ],
            "application/vnd.google.colaboratory.intrinsic+json": {
              "type": "string"
            }
          },
          "metadata": {},
          "execution_count": 18
        }
      ]
    },
    {
      "cell_type": "code",
      "source": [
        "a[3:-1]"
      ],
      "metadata": {
        "colab": {
          "base_uri": "https://localhost:8080/",
          "height": 36
        },
        "id": "sccwlbjEVRVz",
        "outputId": "f8aa37b5-6177-47ef-bd33-bd00e555d10f"
      },
      "execution_count": null,
      "outputs": [
        {
          "output_type": "execute_result",
          "data": {
            "text/plain": [
              "''"
            ],
            "application/vnd.google.colaboratory.intrinsic+json": {
              "type": "string"
            }
          },
          "metadata": {},
          "execution_count": 19
        }
      ]
    },
    {
      "cell_type": "markdown",
      "source": [
        "# list와 tuple"
      ],
      "metadata": {
        "id": "6hYe-PPxWC9Q"
      }
    },
    {
      "cell_type": "code",
      "source": [
        "a = [1, 2, 3]"
      ],
      "metadata": {
        "id": "HQkc92L4Vxtv"
      },
      "execution_count": null,
      "outputs": []
    },
    {
      "cell_type": "code",
      "source": [
        "a[1] = 1\n",
        "\n",
        "# list item 변경"
      ],
      "metadata": {
        "id": "L-FMeuJvWKIQ"
      },
      "execution_count": null,
      "outputs": []
    },
    {
      "cell_type": "code",
      "source": [
        "print(a)"
      ],
      "metadata": {
        "colab": {
          "base_uri": "https://localhost:8080/"
        },
        "id": "CxGlBWi2WNf5",
        "outputId": "e15f2763-ca08-4463-bec2-cf140eb11545"
      },
      "execution_count": null,
      "outputs": [
        {
          "output_type": "stream",
          "name": "stdout",
          "text": [
            "[1, 1, 3]\n"
          ]
        }
      ]
    },
    {
      "cell_type": "markdown",
      "source": [
        "list는 item 바꿀 수 있음"
      ],
      "metadata": {
        "id": "1XNiNnr4WTCk"
      }
    },
    {
      "cell_type": "code",
      "source": [
        "a = (1, 2, 3)"
      ],
      "metadata": {
        "id": "hchV4XlDWVU1"
      },
      "execution_count": null,
      "outputs": []
    },
    {
      "cell_type": "code",
      "source": [
        "a[1] = 1"
      ],
      "metadata": {
        "colab": {
          "base_uri": "https://localhost:8080/",
          "height": 172
        },
        "id": "8aeKTroQWXZ7",
        "outputId": "0980d278-0fcd-4155-882c-44e929e1a981"
      },
      "execution_count": null,
      "outputs": [
        {
          "output_type": "error",
          "ename": "TypeError",
          "evalue": "ignored",
          "traceback": [
            "\u001b[0;31m---------------------------------------------------------------------------\u001b[0m",
            "\u001b[0;31mTypeError\u001b[0m                                 Traceback (most recent call last)",
            "\u001b[0;32m<ipython-input-39-69202d2deb04>\u001b[0m in \u001b[0;36m<module>\u001b[0;34m()\u001b[0m\n\u001b[0;32m----> 1\u001b[0;31m \u001b[0ma\u001b[0m\u001b[0;34m[\u001b[0m\u001b[0;36m1\u001b[0m\u001b[0;34m]\u001b[0m \u001b[0;34m=\u001b[0m \u001b[0;36m1\u001b[0m\u001b[0;34m\u001b[0m\u001b[0;34m\u001b[0m\u001b[0m\n\u001b[0m",
            "\u001b[0;31mTypeError\u001b[0m: 'set' object does not support item assignment"
          ]
        }
      ]
    },
    {
      "cell_type": "markdown",
      "source": [
        "tuple은 item 바꾸기 불가능\n",
        "\n",
        "-> 코딩하다가 실수로 지우는 걸 방지하기 위해 만들어진 것이 tuple"
      ],
      "metadata": {
        "id": "DPMQoZH2WeKZ"
      }
    },
    {
      "cell_type": "markdown",
      "source": [
        "# dict\n",
        "(dictionary)"
      ],
      "metadata": {
        "id": "5U6u63qMXiOx"
      }
    },
    {
      "cell_type": "code",
      "source": [
        "a = {\"a\": \"apple\", \"b\": \"orange\", 'c': 2014}"
      ],
      "metadata": {
        "id": "wALFizPHXlxU"
      },
      "execution_count": null,
      "outputs": []
    },
    {
      "cell_type": "markdown",
      "source": [
        "dict에서는 순서가 중요한 것이 아니라 제목값(key값)이 중요.\n",
        "\n",
        "-> 제목값이 access를 가능하게 하는 하나의 key 값 (위의 변수 a의 경우 'a', 'b', 'c' 가 제목값)"
      ],
      "metadata": {
        "id": "4WWKH2nmX15X"
      }
    },
    {
      "cell_type": "code",
      "source": [
        "a[\"a\"]"
      ],
      "metadata": {
        "colab": {
          "base_uri": "https://localhost:8080/",
          "height": 35
        },
        "id": "2tspxBq0YpIJ",
        "outputId": "e7ab1cda-9189-4162-803d-3fcf8cb7ee07"
      },
      "execution_count": null,
      "outputs": [
        {
          "output_type": "execute_result",
          "data": {
            "text/plain": [
              "'apple'"
            ],
            "application/vnd.google.colaboratory.intrinsic+json": {
              "type": "string"
            }
          },
          "metadata": {},
          "execution_count": 41
        }
      ]
    },
    {
      "cell_type": "markdown",
      "source": [
        "a라는 key값을 실행하면 apple이 출력됨"
      ],
      "metadata": {
        "id": "WQUmDj9xYtcU"
      }
    },
    {
      "cell_type": "code",
      "source": [
        "a = {aa : apple}"
      ],
      "metadata": {
        "colab": {
          "base_uri": "https://localhost:8080/",
          "height": 172
        },
        "id": "k-CTfuKXY9nz",
        "outputId": "810d1550-41c8-492c-e80e-791ef1fb7934"
      },
      "execution_count": null,
      "outputs": [
        {
          "output_type": "error",
          "ename": "NameError",
          "evalue": "ignored",
          "traceback": [
            "\u001b[0;31m---------------------------------------------------------------------------\u001b[0m",
            "\u001b[0;31mNameError\u001b[0m                                 Traceback (most recent call last)",
            "\u001b[0;32m<ipython-input-45-7deaad73a125>\u001b[0m in \u001b[0;36m<module>\u001b[0;34m()\u001b[0m\n\u001b[0;32m----> 1\u001b[0;31m \u001b[0ma\u001b[0m \u001b[0;34m=\u001b[0m \u001b[0;34m{\u001b[0m\u001b[0maa\u001b[0m \u001b[0;34m:\u001b[0m \u001b[0mapple\u001b[0m\u001b[0;34m}\u001b[0m\u001b[0;34m\u001b[0m\u001b[0;34m\u001b[0m\u001b[0m\n\u001b[0m",
            "\u001b[0;31mNameError\u001b[0m: name 'aa' is not defined"
          ]
        }
      ]
    },
    {
      "cell_type": "code",
      "source": [
        "a = {aa : apple}"
      ],
      "metadata": {
        "id": "fpts8aUAyjCN"
      },
      "execution_count": null,
      "outputs": []
    },
    {
      "cell_type": "markdown",
      "source": [
        "key 값의 aa는 그냥 변수이므로 error발생"
      ],
      "metadata": {
        "id": "WWo77zYIZUEh"
      }
    },
    {
      "cell_type": "code",
      "source": [
        "a = {123 : 'apple'}"
      ],
      "metadata": {
        "id": "WVGW9EsHZjwc"
      },
      "execution_count": null,
      "outputs": []
    },
    {
      "cell_type": "markdown",
      "source": [
        "key 값에 숫자 올 수 o"
      ],
      "metadata": {
        "id": "o11MZdj8ZuM6"
      }
    }
  ]
}