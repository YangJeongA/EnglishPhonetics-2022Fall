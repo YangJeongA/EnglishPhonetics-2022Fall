{
  "nbformat": 4,
  "nbformat_minor": 0,
  "metadata": {
    "colab": {
      "provenance": [],
      "machine_shape": "hm",
      "include_colab_link": true
    },
    "kernelspec": {
      "name": "python3",
      "display_name": "Python 3"
    },
    "language_info": {
      "name": "python"
    }
  },
  "cells": [
    {
      "cell_type": "markdown",
      "metadata": {
        "id": "view-in-github",
        "colab_type": "text"
      },
      "source": [
        "<a href=\"https://colab.research.google.com/github/YangJeongA/EnglishPhonetics-2022Fall/blob/main/requests_gradio(%EA%B3%B5%EB%8F%99%EC%A3%BC%ED%83%9D%EA%B0%80%EA%B2%A9).ipynb\" target=\"_parent\"><img src=\"https://colab.research.google.com/assets/colab-badge.svg\" alt=\"Open In Colab\"/></a>"
      ]
    },
    {
      "cell_type": "markdown",
      "source": [
        "# API\n",
        "\n",
        "개발자에게 필요한, 개발을 위한 source \n",
        "\n",
        "최근에는 API 유형 중 REST API가 가장 많이 사용됨\n",
        "\n",
        "어떤 정보가 서버를 통해 제공되고, 우리는 그것을 API형태로 가져와서 사용함\n",
        "\n",
        "<API제공 사이트>\n",
        "* 공공데이터포털\n",
        "* 네이버 API 네이버 오픈 API 목록\n",
        "* 카카오 API\n",
        "\n"
      ],
      "metadata": {
        "id": "KdlXiphBNz8Y"
      }
    },
    {
      "cell_type": "markdown",
      "source": [
        "## import libraries"
      ],
      "metadata": {
        "id": "n4d_TfR3M4_7"
      }
    },
    {
      "cell_type": "code",
      "source": [
        "!pip install gradio\n",
        "import gradio as gr\n",
        "import requests          #request: API 서비스를 가져올 수 있도록 하는 library\n",
        "import pandas as pd\n",
        "\n",
        "!pip install xmltodict\n",
        "import json\n",
        "import xmltodict"
      ],
      "metadata": {
        "id": "8eZHGJhmqd9a"
      },
      "execution_count": null,
      "outputs": []
    },
    {
      "cell_type": "markdown",
      "source": [
        "## test API"
      ],
      "metadata": {
        "id": "LDOeErLXgJUu"
      }
    },
    {
      "cell_type": "code",
      "source": [
        "input1 = '11290' # 법정동코드 (e.g. 성북구)\n",
        "input2 = '202210' # 조회월\n",
        "\n",
        "URL = ('http://openapi.molit.go.kr:8081/OpenAPI_ToolInstallPackage/service/rest/RTMSOBJSvc/getRTMSDataSvcAptTrade?LAWD_CD='+input1+'&DEAL_YMD='+input2+'&serviceKey=miH%2BZXg85lQy4%2FkmhffvygXDIFiTwisriSLxtyECSzw6hxTVK7yI8QKIOc7mP7LEqCnhBGuj6iW1gZW65dum7A%3D%3D')\n",
        "response = requests.get(URL)\n",
        "\n",
        "\n",
        "\n",
        "# ()에 url 써주면 되는데 쓰는 방법은 활용가이드에 있음! (공공데이터포털의 경우 참고문서) \n",
        "# url의 형식으로 OPEN API를 주는 유형을 REST API라고 함!"
      ],
      "metadata": {
        "id": "lHHEwqpyJF7r"
      },
      "execution_count": null,
      "outputs": []
    },
    {
      "cell_type": "code",
      "source": [
        "response\n",
        "\n",
        "\n",
        "# 출력결과가 200이면 처리가 잘 되었다는 뜻"
      ],
      "metadata": {
        "id": "EPDuZEoYjjBn"
      },
      "execution_count": null,
      "outputs": []
    },
    {
      "cell_type": "code",
      "source": [
        "response.text\n",
        "\n",
        "# 정보가 어떤 형식으로 불려왔는지 확인 가능\n",
        "# 이 예시의 경우 xml형태"
      ],
      "metadata": {
        "id": "y75QCaNGPn6s"
      },
      "execution_count": null,
      "outputs": []
    },
    {
      "cell_type": "markdown",
      "source": [
        "<대표적인 데이터 포맷>\n",
        "- xml\n",
        "- json: dict와 비슷한 형태"
      ],
      "metadata": {
        "id": "kqVfi9MKP11E"
      }
    },
    {
      "cell_type": "markdown",
      "source": [
        "https://codebeautify.org/"
      ],
      "metadata": {
        "id": "lpbP7XcMalRT"
      }
    },
    {
      "cell_type": "markdown",
      "source": [
        "#### xmltodict: xml text to dict\n",
        "#### json.loads: json text to dict\n",
        "#### json.dumps: dict to json text\n",
        "\n"
      ],
      "metadata": {
        "id": "7EdvyvDpZk58"
      }
    },
    {
      "cell_type": "code",
      "source": [
        "dict_data = xmltodict.parse(response.text) \n",
        "# json_txt = json.dumps(dict_data, ensure_ascii = False)  \n",
        "# dict_data = json.loads(json_txt)  \n",
        "\n",
        "\n",
        "# 정보를 최종적으로 dataframe 형태로 바꿔주기 위해 (pandas 활용 위해) xml형태를 dict로 변형시켜 주는 것!"
      ],
      "metadata": {
        "id": "tV6YoUcsdN8c"
      },
      "execution_count": null,
      "outputs": []
    },
    {
      "cell_type": "code",
      "source": [
        "dict_data \n",
        "\n",
        "# data의 형태가 xml에서 dict로 바뀐 것 볼 수 있음\n",
        "# dict_data.keys() 하면 key만 볼 수 있음"
      ],
      "metadata": {
        "id": "A7LwiWyrhB_Y"
      },
      "execution_count": null,
      "outputs": []
    },
    {
      "cell_type": "code",
      "source": [
        "item = dict_data['response']['body']['items']['item']\n",
        "\n",
        "\n",
        "# response의 key 값 중 items에 해당하는 것만 보고자 하는 것 -> type이 dict이므로 가능\n",
        "# item = dict_data['response']['body']['items']['item'][0] 이렇게나 item[0]이렇게 하면 원하는값만 추출해서 보는 것도 가능(key값출력형태가list이므로indexing 가능)"
      ],
      "metadata": {
        "id": "AXxaFHiM-vUU"
      },
      "execution_count": null,
      "outputs": []
    },
    {
      "cell_type": "code",
      "source": [
        "df = pd.DataFrame(item)\n",
        "df"
      ],
      "metadata": {
        "id": "8ll_27m1x35t"
      },
      "execution_count": null,
      "outputs": []
    },
    {
      "cell_type": "markdown",
      "source": [
        "## make a function"
      ],
      "metadata": {
        "id": "7Ij1aHSygY-A"
      }
    },
    {
      "cell_type": "code",
      "source": [
        "def test(input1, input2):\n",
        "  URL = ('http://openapi.molit.go.kr:8081/OpenAPI_ToolInstallPackage/service/rest/RTMSOBJSvc/getRTMSDataSvcAptTrade?LAWD_CD='+input1+'&DEAL_YMD='+input2+'&serviceKey=miH%2BZXg85lQy4%2FkmhffvygXDIFiTwisriSLxtyECSzw6hxTVK7yI8QKIOc7mP7LEqCnhBGuj6iW1gZW65dum7A%3D%3D')  \n",
        "  response = requests.get(URL)\n",
        "  dict_data = xmltodict.parse(response.content)\n",
        "  item = dict_data['response']['body']['items']['item']\n",
        "\n",
        "  df = pd.DataFrame(item)\n",
        "  return df"
      ],
      "metadata": {
        "id": "Wf_JH79cDKc3"
      },
      "execution_count": null,
      "outputs": []
    },
    {
      "cell_type": "markdown",
      "source": [
        "## Build a demo"
      ],
      "metadata": {
        "id": "Ca8G_kDVgp3x"
      }
    },
    {
      "cell_type": "code",
      "source": [
        "demo = gr.Interface(fn=test, inputs=[\"text\", \"text\"], outputs=\"dataframe\")\n",
        "demo.launch(share=True)\n",
        "\n",
        "\n",
        "#gradio 사용법 "
      ],
      "metadata": {
        "id": "nopFEK52GSuz",
        "colab": {
          "base_uri": "https://localhost:8080/",
          "height": 646
        },
        "outputId": "c880cb79-ee9c-4b27-f1a3-14ace03f4b08"
      },
      "execution_count": null,
      "outputs": [
        {
          "output_type": "stream",
          "name": "stdout",
          "text": [
            "Colab notebook detected. To show errors in colab notebook, set `debug=True` in `launch()`\n",
            "Running on public URL: https://426b5fc078f6a3d9.gradio.app\n",
            "\n",
            "This share link expires in 72 hours. For free permanent hosting and GPU upgrades (NEW!), check out Spaces: https://huggingface.co/spaces\n"
          ]
        },
        {
          "output_type": "display_data",
          "data": {
            "text/plain": [
              "<IPython.core.display.HTML object>"
            ],
            "text/html": [
              "<div><iframe src=\"https://426b5fc078f6a3d9.gradio.app\" width=\"100%\" height=\"500\" allow=\"autoplay; camera; microphone; clipboard-read; clipboard-write;\" frameborder=\"0\" allowfullscreen></iframe></div>"
            ]
          },
          "metadata": {}
        },
        {
          "output_type": "execute_result",
          "data": {
            "text/plain": [
              "(<gradio.routes.App at 0x7f3f62fb8c50>,\n",
              " 'http://127.0.0.1:7860/',\n",
              " 'https://426b5fc078f6a3d9.gradio.app')"
            ]
          },
          "metadata": {},
          "execution_count": 81
        }
      ]
    }
  ]
}